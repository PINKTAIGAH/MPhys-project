{
 "cells": [
  {
   "cell_type": "code",
   "execution_count": 1,
   "metadata": {},
   "outputs": [],
   "source": [
    "import torch\n",
    "import utils \n",
    "import torch.nn as nn\n",
    "import torch.optim as optim\n",
    "import config\n",
    "import torchvision as tv\n",
    "from dataset import NuIDDataset \n",
    "from torch.utils.data import DataLoader\n",
    "from training_utils_copy import *\n",
    "import scipy.stats as stats\n",
    "from sparceNetPID_copy import SparceNetPID\n",
    "import medmnist\n",
    "from medmnist import INFO, Evaluator\n",
    "import matplotlib.pyplot as plt\n",
    "from torchvision import transforms"
   ]
  },
  {
   "cell_type": "code",
   "execution_count": 2,
   "metadata": {},
   "outputs": [
    {
     "name": "stderr",
     "output_type": "stream",
     "text": [
      "/home/giorgio/miniconda3/envs/mphys/lib/python3.11/site-packages/torchvision/models/_utils.py:208: UserWarning: The parameter 'pretrained' is deprecated since 0.13 and may be removed in the future, please use 'weights' instead.\n",
      "  warnings.warn(\n",
      "/home/giorgio/miniconda3/envs/mphys/lib/python3.11/site-packages/torchvision/models/_utils.py:223: UserWarning: Arguments other than a weight enum or `None` for 'weights' are deprecated since 0.13 and may be removed in the future. The current behavior is equivalent to passing `weights=None`.\n",
      "  warnings.warn(msg)\n"
     ]
    }
   ],
   "source": [
    "# Define discriminator and generator objects \n",
    "# model = SparceNetPID(\n",
    "#     imageChannels = config.IMAGE_CHANNELS,\n",
    "#     numClasses = config.N_CLASSES,\n",
    "#     imageDimentions= config.INPUT_SIZE,\n",
    "# )\n",
    "model = tv.models.resnet18(pretrained=False)\n",
    "input_size = model.fc.in_features\n",
    "model.fc = torch.nn.Linear(input_size, out_features=config.N_CLASSES)\n",
    "model.conv1 = torch.nn.Conv2d(1, 64, kernel_size=7, stride=2, padding=3, bias=False)"
   ]
  },
  {
   "cell_type": "code",
   "execution_count": 3,
   "metadata": {},
   "outputs": [],
   "source": [
    "# Define optimiser for both discriminator and generator\n",
    "optimiser = optim.Adam(\n",
    "    model.parameters(), lr=config.LEARNING_RATE, betas=config.MOMENTUM\n",
    ")\n",
    "\n",
    "\n",
    "# Loss function for model trianing \n",
    "criterion = torch.nn.CrossEntropyLoss().to(config.DEVICE)\n",
    "\n",
    "# Load previously saved models and optimisers if True\n",
    "if config.LOAD_MODEL:\n",
    "    utils.load_checkpoint(\n",
    "        config.CHECKPOINT_GEN_LOAD, model, optimiser, config.LEARNING_RATE,\n",
    "    )\n",
    "\n"
   ]
  },
  {
   "cell_type": "code",
   "execution_count": 4,
   "metadata": {},
   "outputs": [
    {
     "name": "stdout",
     "output_type": "stream",
     "text": [
      "   \u001b[93m[WARNING]\u001b[00m \u001b[0m \u001b[94m<trainData3d::configure>\u001b[00m BatchFillerSparseTensor3D is only supported with one channel!\n",
      "   \u001b[93m[WARNING]\u001b[00m \u001b[0m \u001b[94m<testData3d::configure>\u001b[00m BatchFillerSparseTensor3D is only supported with one channel!\n"
     ]
    }
   ],
   "source": [
    "# Initialise training dataset and dataloader\n",
    "train_dataset = NuIDDataset(\n",
    "    \"/home/giorgio/Desktop/train\", \n",
    "    name = \"train\",\n",
    "    maxVoxels=config.MAX_VOXELS, \n",
    "    maxParticles=config.MAX_PARTICLE,\n",
    "    length=2000,\n",
    "    imageDims=config.IMAGE_SIZE,\n",
    "    nClasses=config.N_CLASSES,\n",
    ")\n",
    "train_loader = DataLoader(\n",
    "    train_dataset,\n",
    "    batch_size=config.BATCH_SIZE,\n",
    "    shuffle=True,\n",
    ")\n",
    "\n",
    "# Initialise validation dataset and dataloader\n",
    "val_dataset = NuIDDataset(\n",
    "    \"/home/giorgio/Desktop/test\", \n",
    "    name = \"test\",\n",
    "    maxVoxels=config.MAX_VOXELS, \n",
    "    maxParticles=config.MAX_PARTICLE,\n",
    "    length=1000,\n",
    "    imageDims=config.IMAGE_SIZE,\n",
    "    nClasses=config.N_CLASSES,\n",
    ")\n",
    "val_loader = DataLoader(\n",
    "    train_dataset,\n",
    "    batch_size=config.BATCH_SIZE,\n",
    "    shuffle=True,\n",
    ")\n",
    "\n",
    "# data_transform = transforms.Compose([\n",
    "#     transforms.ToTensor(),\n",
    "#     transforms.Grayscale(),\n",
    "#     transforms.Normalize(mean=[.5], std=[.5]),\n",
    "#     transforms.Pad(40)\n",
    "# ])\n",
    "\n",
    "# dataset_flag = \"bloodmnist\"\n",
    "# download = True\n",
    "\n",
    "# # Get dataclass attribute, ie: the location of the object containing desired data \n",
    "# info = INFO[dataset_flag]\n",
    "# DataClass = getattr(medmnist, info[\"python_class\"])\n",
    "\n",
    "# # load the data (ie: member of torch.utils.data.DataClass)\n",
    "# train_dataset = DataClass(split=\"train\", download=download, transform=data_transform)\n",
    "# train_loader = DataLoader(dataset=train_dataset, batch_size=config.BATCH_SIZE, shuffle=True)\n",
    "\n",
    "# val_dataset = DataClass(split=\"test\", download=download, transform=data_transform)\n",
    "# val_loader = DataLoader(dataset=val_dataset, batch_size=config.BATCH_SIZE, shuffle=True)\n",
    "\n",
    "# define dictionary to hodl dataloaders\n",
    "dataloaders = {\"train\":train_loader, \"val\":val_loader}\n",
    "dataset_sizes = {\"train\":2000, \"val\":2000}"
   ]
  },
  {
   "cell_type": "code",
   "execution_count": 5,
   "metadata": {},
   "outputs": [
    {
     "name": "stdout",
     "output_type": "stream",
     "text": [
      "=== Train 1 ===\n",
      "    Loss: 0.5157\n",
      "    Accuracy: 0.7765\n",
      "    F1: 0.3085\n",
      "=== Val 1 ===\n",
      "    Loss: 0.4834\n",
      "    Accuracy: 0.7800\n",
      "    F1: 0.3053\n",
      "\n",
      "=== Train 2 ===\n",
      "    Loss: 0.5024\n",
      "    Accuracy: 0.7965\n",
      "    F1: 0.3005\n",
      "=== Val 2 ===\n",
      "    Loss: 0.5069\n",
      "    Accuracy: 0.7705\n",
      "    F1: 0.3120\n",
      "\n",
      "=== Train 3 ===\n",
      "    Loss: 0.4330\n",
      "    Accuracy: 0.8005\n",
      "    F1: 0.3324\n",
      "=== Val 3 ===\n",
      "    Loss: 0.4485\n",
      "    Accuracy: 0.7900\n",
      "    F1: 0.3109\n",
      "\n",
      "=== Train 4 ===\n",
      "    Loss: 0.4068\n",
      "    Accuracy: 0.8075\n",
      "    F1: 0.3787\n",
      "=== Val 4 ===\n",
      "    Loss: 0.4383\n",
      "    Accuracy: 0.7985\n",
      "    F1: 0.3026\n",
      "\n",
      "=== Train 5 ===\n",
      "    Loss: 0.3989\n",
      "    Accuracy: 0.7970\n",
      "    F1: 0.4227\n",
      "=== Val 5 ===\n",
      "    Loss: 2.7615\n",
      "    Accuracy: 0.7845\n",
      "    F1: 0.2931\n",
      "\n",
      "=== Train 6 ===\n",
      "    Loss: 0.3811\n",
      "    Accuracy: 0.8355\n",
      "    F1: 0.4535\n",
      "=== Val 6 ===\n",
      "    Loss: 2.1181\n",
      "    Accuracy: 0.7780\n",
      "    F1: 0.2917\n",
      "\n",
      "=== Train 7 ===\n",
      "    Loss: 0.4055\n",
      "    Accuracy: 0.8205\n",
      "    F1: 0.4706\n",
      "=== Val 7 ===\n",
      "    Loss: 0.4267\n",
      "    Accuracy: 0.7970\n",
      "    F1: 0.3432\n",
      "\n",
      "=== Train 8 ===\n",
      "    Loss: 0.3758\n",
      "    Accuracy: 0.8250\n",
      "    F1: 0.4645\n",
      "=== Val 8 ===\n",
      "    Loss: 6.8992\n",
      "    Accuracy: 0.7825\n",
      "    F1: 0.2927\n",
      "\n",
      "=== Train 9 ===\n",
      "    Loss: 0.3785\n",
      "    Accuracy: 0.8260\n",
      "    F1: 0.4638\n",
      "=== Val 9 ===\n",
      "    Loss: 10.3830\n",
      "    Accuracy: 0.7830\n",
      "    F1: 0.2928\n",
      "\n",
      "=== Train 10 ===\n",
      "    Loss: 0.3990\n",
      "    Accuracy: 0.8170\n",
      "    F1: 0.4785\n",
      "=== Val 10 ===\n",
      "    Loss: 13.7954\n",
      "    Accuracy: 0.7790\n",
      "    F1: 0.2919\n",
      "\n"
     ]
    }
   ],
   "source": [
    "# Train the model\n",
    "model, statistic = train_model(model, config.NUM_EPOCHS, criterion, optimiser, dataloaders,dataset_sizes, config.DEVICE)"
   ]
  },
  {
   "cell_type": "code",
   "execution_count": 6,
   "metadata": {},
   "outputs": [
    {
     "name": "stdout",
     "output_type": "stream",
     "text": [
      "==> Saving checkpoint\n"
     ]
    }
   ],
   "source": [
    "# Save the model if configured to do so\n",
    "if config.SAVE_MODEL:\n",
    "    utils.save_checkpoint(model, optimiser,)"
   ]
  },
  {
   "cell_type": "code",
   "execution_count": 7,
   "metadata": {},
   "outputs": [],
   "source": [
    "# Print some statistics\n",
    "model = model.eval().to(config.DEVICE)\n",
    "def get_confusion_matrix():\n",
    "    global model, dataloaders\n",
    "    confusion = np.zeros((config.N_CLASSES, config.N_CLASSES))\n",
    "    binning = np.linspace(0, config.N_CLASSES, config.N_CLASSES+1, dtype=int)\n",
    "\n",
    "    for (images, labels) in dataloaders['val']:\n",
    "        images = images.type(torch.float32).to(config.DEVICE)\n",
    "        labels = labels.type(torch.LongTensor).to(config.DEVICE)\n",
    "        output = model(images,)\n",
    "        _, preds = torch.max(output, 1)\n",
    "        labels\n",
    "        H, *_ = stats.binned_statistic_2d(labels.to('cpu').numpy().flatten(), preds.to('cpu').numpy().flatten(), None, bins=[binning, binning], statistic='count')\n",
    "        confusion += H\n",
    "    return confusion"
   ]
  },
  {
   "cell_type": "code",
   "execution_count": 8,
   "metadata": {},
   "outputs": [
    {
     "name": "stdout",
     "output_type": "stream",
     "text": [
      "[[   0.   11.    0.]\n",
      " [   0. 1561.    0.]\n",
      " [   0.  428.    0.]]\n",
      "--- Class Accuracy\n",
      "     0: 0.0\n",
      "     1: 100.0\n",
      "     2: 0.0\n",
      "\n"
     ]
    }
   ],
   "source": [
    "confusion = get_confusion_matrix()\n",
    "print(f\"{confusion}\")\n",
    "class_name = {0: \"nuMuCC\", 1: \"nuECC\", 2: \"NC\",}\n",
    "print(\"--- Class Accuracy\")\n",
    "for t in range(confusion.shape[0]):\n",
    "    print(f\"{list(class_name.keys())[t]:6}: {100*(confusion[t,t] / confusion[t].sum()):.1f}\")\n",
    "print()"
   ]
  },
  {
   "cell_type": "code",
   "execution_count": 9,
   "metadata": {},
   "outputs": [
    {
     "data": {
      "text/plain": [
       "{'train': {'loss': [0.5157389782331884,\n",
       "   0.5023932344503701,\n",
       "   0.43304126271698623,\n",
       "   0.40678430910781027,\n",
       "   0.39890051071066407,\n",
       "   0.3811143853343092,\n",
       "   0.4055331546063535,\n",
       "   0.37580349602503704,\n",
       "   0.3784781113290228,\n",
       "   0.3990343544976786],\n",
       "  'accuracy': [0.7765,\n",
       "   0.7965,\n",
       "   0.8005,\n",
       "   0.8075,\n",
       "   0.797,\n",
       "   0.8355,\n",
       "   0.8205,\n",
       "   0.825,\n",
       "   0.826,\n",
       "   0.817],\n",
       "  'f1': [0.3085102727959871,\n",
       "   0.3004991007288024,\n",
       "   0.33242995273177506,\n",
       "   0.3787457627955176,\n",
       "   0.42265154441796104,\n",
       "   0.4534607345476262,\n",
       "   0.47056714459216487,\n",
       "   0.46454816838106777,\n",
       "   0.4637830911354224,\n",
       "   0.47851531679873754]},\n",
       " 'val': {'loss': [0.4833948374688625,\n",
       "   0.5068583843726665,\n",
       "   0.44845297913625837,\n",
       "   0.43826354227168485,\n",
       "   2.7615496964430126,\n",
       "   2.11808090908665,\n",
       "   0.4267010731468526,\n",
       "   6.8992057027816776,\n",
       "   10.382997670173644,\n",
       "   13.795438903808593],\n",
       "  'accuracy': [0.78,\n",
       "   0.7705,\n",
       "   0.79,\n",
       "   0.7985,\n",
       "   0.7845,\n",
       "   0.778,\n",
       "   0.797,\n",
       "   0.7825,\n",
       "   0.783,\n",
       "   0.779],\n",
       "  'f1': [0.3052587991718427,\n",
       "   0.3119997826446083,\n",
       "   0.3108824664609901,\n",
       "   0.3026381583082614,\n",
       "   0.2930792939198655,\n",
       "   0.291713535808024,\n",
       "   0.34321915900863265,\n",
       "   0.2926601215521272,\n",
       "   0.2927650028042625,\n",
       "   0.29192430204234593]}}"
      ]
     },
     "execution_count": 9,
     "metadata": {},
     "output_type": "execute_result"
    }
   ],
   "source": [
    "statistic"
   ]
  },
  {
   "cell_type": "code",
   "execution_count": 10,
   "metadata": {},
   "outputs": [
    {
     "data": {
      "text/plain": [
       "[<matplotlib.lines.Line2D at 0x7f371378df90>]"
      ]
     },
     "execution_count": 10,
     "metadata": {},
     "output_type": "execute_result"
    },
    {
     "data": {
      "image/png": "[encoded data removed]",
      "text/plain": [
       "<Figure size 640x480 with 1 Axes>"
      ]
     },
     "metadata": {},
     "output_type": "display_data"
    }
   ],
   "source": [
    "plt.plot(statistic[\"val\"][\"accuracy\"])"
   ]
  },
  {
   "cell_type": "code",
   "execution_count": null,
   "metadata": {},
   "outputs": [],
   "source": []
  }
 ],
 "metadata": {
  "kernelspec": {
   "display_name": "mphys",
   "language": "python",
   "name": "python3"
  },
  "language_info": {
   "codemirror_mode": {
    "name": "ipython",
    "version": 3
   },
   "file_extension": ".py",
   "mimetype": "text/x-python",
   "name": "python",
   "nbconvert_exporter": "python",
   "pygments_lexer": "ipython3",
   "version": "3.11.5"
  }
 },
 "nbformat": 4,
 "nbformat_minor": 2
}
