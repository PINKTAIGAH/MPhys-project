{
 "cells": [
  {
   "cell_type": "markdown",
   "metadata": {},
   "source": [
    "Draw a circle with a random centre but fixed radius on a 64x64 grid"
   ]
  },
  {
   "cell_type": "code",
   "execution_count": null,
   "metadata": {},
   "outputs": [],
   "source": [
    "import numpy as np\n",
    "import math\n",
    "\n",
    "gridSize = 64\n",
    "radius = 10\n",
    "\n",
    "def oneRandomCircle():\n",
    "\n",
    "    outputGrid = np.zeros( shape=(gridSize,gridSize) )\n",
    "    x = np.random.uniform( 0.0+radius, gridSize-radius ) # keep the whole circle on the plot for now\n",
    "    y = np.random.uniform( 0.0+radius, gridSize-radius )\n",
    "    \n",
    "    # This method is rubbish, but has the \"useful\" side-effect of making irregular images\n",
    "    for i in range(gridSize):\n",
    "        for j in range(gridSize):\n",
    "            deltaX = i - x\n",
    "            deltaY = j - y\n",
    "            deltaR = deltaX*deltaX + deltaY*deltaY\n",
    "            if math.fabs( deltaR - radius ) < 2.0:\n",
    "                outputGrid[j,i] = 1 # I've never understood the indexing but this seems to be right\n",
    "    \n",
    "    return outputGrid, (x,y)"
   ]
  },
  {
   "cell_type": "markdown",
   "metadata": {},
   "source": [
    "Plot a test image"
   ]
  },
  {
   "cell_type": "code",
   "execution_count": null,
   "metadata": {},
   "outputs": [],
   "source": [
    "import matplotlib.pyplot as pl\n",
    "\n",
    "def plotOneImage( inputArray, centre=None ):\n",
    "    \n",
    "    pl.imshow( inputArray, cmap='gray' )\n",
    "    \n",
    "    if centre is not None:\n",
    "        pl.scatter(centre[0], centre[1], color='r')\n",
    "    \n",
    "    pl.tight_layout()\n",
    "    pl.axis('off')\n",
    "    #pl.xlabel(centre)\n",
    "    pl.show()"
   ]
  },
  {
   "cell_type": "markdown",
   "metadata": {},
   "source": [
    "Create datasets to train the CNN to find the centres"
   ]
  },
  {
   "cell_type": "code",
   "execution_count": null,
   "metadata": {},
   "outputs": [],
   "source": [
    "N = 1000\n",
    "trainInput = np.empty( shape=[N,gridSize,gridSize] )\n",
    "trainOutput = np.empty( shape=[N,2] ) # N samples, 2 output coordinates\n",
    "\n",
    "for i in range(N):\n",
    "    \n",
    "    testImage, centre = oneRandomCircle()\n",
    "    \n",
    "    trainInput[i] = testImage\n",
    "    trainOutput[i] = centre\n",
    "\n",
    "plotOneImage(trainInput[5], trainOutput[5])"
   ]
  },
  {
   "cell_type": "markdown",
   "metadata": {},
   "source": [
    "Now train a CNN to find the middle\n",
    "\n",
    "Based on https://www.tensorflow.org/tutorials/images/cnn"
   ]
  },
  {
   "cell_type": "code",
   "execution_count": null,
   "metadata": {},
   "outputs": [],
   "source": [
    "from tensorflow.keras.models import Sequential\n",
    "from tensorflow.keras.layers import Dense, Conv2D, MaxPooling2D, Flatten, Rescaling\n",
    "\n",
    "model = Sequential()\n",
    "model.add(Conv2D(32, (3, 3), activation='relu', input_shape=(64, 64, 1)))\n",
    "model.add(MaxPooling2D((2, 2)))\n",
    "model.add(Conv2D(64, (3, 3), activation='relu'))\n",
    "model.add(MaxPooling2D((2, 2)))\n",
    "model.add(Conv2D(64, (3, 3), activation='relu'))\n",
    "model.add(Flatten())\n",
    "model.add(Dense(64, activation='relu'))\n",
    "model.add(Dense(2, activation='relu')) # 2 coordinates to output\n",
    "model.add(Rescaling(gridSize)) # NNs like values 0-1, so let's scale to full grid rather than make it learn\n",
    "\n",
    "model.compile( loss='mean_squared_error', optimizer='adam' )\n",
    "model.fit( trainInput, trainOutput, epochs=5, batch_size=10, verbose=2)"
   ]
  },
  {
   "cell_type": "markdown",
   "metadata": {},
   "source": [
    "Now demonstrate the prediction"
   ]
  },
  {
   "cell_type": "code",
   "execution_count": null,
   "metadata": {},
   "outputs": [],
   "source": [
    "for i in range(5):\n",
    "\n",
    "    testImage, centre = oneRandomCircle()\n",
    "    testInput = np.empty( shape=[1,gridSize,gridSize] )\n",
    "    testInput[0] = testImage\n",
    "\n",
    "    testOutput = model.predict( testInput )[0] # input and output are both length-1 arrays\n",
    "\n",
    "    plotOneImage( testImage, testOutput )"
   ]
  },
  {
   "cell_type": "code",
   "execution_count": null,
   "metadata": {},
   "outputs": [],
   "source": []
  }
 ],
 "metadata": {
  "kernelspec": {
   "display_name": "tfGPU",
   "language": "python",
   "name": "tfgpu"
  },
  "language_info": {
   "codemirror_mode": {
    "name": "ipython",
    "version": 3
   },
   "file_extension": ".py",
   "mimetype": "text/x-python",
   "name": "python",
   "nbconvert_exporter": "python",
   "pygments_lexer": "ipython3",
   "version": "3.10.12"
  }
 },
 "nbformat": 4,
 "nbformat_minor": 4
}
