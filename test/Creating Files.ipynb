{
 "cells": [
  {
   "cell_type": "markdown",
   "id": "39e10219",
   "metadata": {},
   "source": [
    "# Create Files\n",
    "\n",
    "In this notebook, we'll create some larcv files, store them to disk, and reload them to validate them."
   ]
  },
  {
   "cell_type": "code",
   "execution_count": null,
   "id": "e7276b97",
   "metadata": {},
   "outputs": [],
   "source": [
    "import larcv\n",
    "import numpy"
   ]
  },
  {
   "cell_type": "markdown",
   "id": "102e5e6f",
   "metadata": {},
   "source": [
    "## Step 1: Create an output file\n",
    "\n",
    "We use larcv's IOManager to handle all file IO:"
   ]
  },
  {
   "cell_type": "code",
   "execution_count": null,
   "id": "ca4af749",
   "metadata": {},
   "outputs": [],
   "source": [
    "# What should the name of the file be?\n",
    "output = \"demo_output.h5\"\n",
    "\n",
    "# Create an output larcv file, using the WRITE mode\n",
    "io_manager = larcv.IOManager(larcv.IOManager.kWRITE)\n",
    "io_manager.set_out_file(str(output))\n",
    "io_manager.initialize()"
   ]
  },
  {
   "cell_type": "markdown",
   "id": "407752af",
   "metadata": {},
   "source": [
    "## Step 2: Creating data products\n",
    "\n",
    "Creating Data products in python is not too challenging.  In this step, we create a number of objects demonstrating most of the larcv datatypes.  In Step 3, we'll store them to file."
   ]
  },
  {
   "cell_type": "code",
   "execution_count": null,
   "id": "42b7b279",
   "metadata": {},
   "outputs": [],
   "source": [
    "# Dense Tensor Objects\n",
    "\n",
    "def create_tensor1d(n_projection_ids, dense_shape=[512,]):\n",
    "    # Create an return a list of Tensor2D objects with dense shape as defined\n",
    "    tensor_1ds = []\n",
    "    for i in range(n_projection_ids):\n",
    "        data = numpy.random.uniform(size=dense_shape).astype(\"float32\")\n",
    "        tensor = larcv.Tensor1D(data)\n",
    "        # Creating from numpy automatically sets the projection ID to 0, so fix that:\n",
    "        tensor.set_projection_id(i)\n",
    "        tensor_1ds.append(tensor)\n",
    "    return tensor_1ds\n",
    "\n",
    "def create_tensor2d(n_projection_ids, dense_shape=[512, 512]):\n",
    "    # Create an return a list of Tensor2D objects with dense shape as defined\n",
    "    tensor_2ds = []\n",
    "    for i in range(n_projection_ids):\n",
    "        data = numpy.random.uniform(size=dense_shape).astype(\"float32\")\n",
    "        tensor = larcv.Tensor2D(data)\n",
    "        # Creating from numpy automatically sets the projection ID to 0, so fix that:\n",
    "        tensor.set_projection_id(i)\n",
    "        tensor_2ds.append(tensor)\n",
    "    return tensor_2ds\n",
    "\n",
    "def create_tensor3d(n_projection_ids, dense_shape=[128, 128, 128]):\n",
    "    # Create an return a list of Tensor2D objects with dense shape as defined\n",
    "    tensor_3ds = []\n",
    "    for i in range(n_projection_ids):\n",
    "        data = numpy.random.uniform(size=dense_shape).astype(\"float32\")\n",
    "        tensor = larcv.Tensor3D(data)\n",
    "        # Creating from numpy automatically sets the projection ID to 0, so fix that:\n",
    "        tensor.set_projection_id(i)\n",
    "        tensor_3ds.append(tensor)    \n",
    "    return tensor_3ds\n",
    "\n",
    "def create_tensor4d(n_projection_ids, dense_shape=[64, 64, 64, 64]):\n",
    "    # Create an return a list of Tensor2D objects with dense shape as defined\n",
    "    tensor_4ds = []\n",
    "    for i in range(n_projection_ids):\n",
    "        data = numpy.random.uniform(size=dense_shape).astype(\"float32\")\n",
    "        tensor = larcv.Tensor4D(data)\n",
    "        # Creating from numpy automatically sets the projection ID to 0, so fix that:\n",
    "        tensor.set_projection_id(i)\n",
    "        tensor_4ds.append(tensor)\n",
    "    return tensor_4ds\n",
    "\n"
   ]
  },
  {
   "cell_type": "markdown",
   "id": "6468f5b3",
   "metadata": {},
   "source": [
    "All of these functions are just creating random data - don't read into it too much!"
   ]
  },
  {
   "cell_type": "markdown",
   "id": "d97f0025",
   "metadata": {},
   "source": [
    "## Step 3 - Write Data to file\n",
    "\n",
    "Typically, data is organized into \"events\" that have a run/subrun/event ID, and each event can contain multiple types of dataproducts and multiple projection IDs per product.  Writing a file is usually a loop over events from some sort of source."
   ]
  },
  {
   "cell_type": "code",
   "execution_count": null,
   "id": "3fd428bd",
   "metadata": {},
   "outputs": [],
   "source": [
    "for i in range(10): # Let's make this over 10 events\n",
    "    # Set the event identifiers.  It's not mandatory, but probably convienient:\n",
    "    io_manager.set_id(1,2,i) # Run 1, subrun 2, event i\n",
    "    \n",
    "    # To create data, we get the \"event_dataproduct\" object from the io manager:\n",
    "    event_tensor2d = io_manager.get_data(\"tensor2d\", \"demo_data\") # \"Demo_data\" here is a string identifier that is unique to this dataproduct.\n",
    "    \n",
    "    tensor_2d_list = create_tensor2d(3)\n",
    "    \n",
    "    # Write the tensors to the event_tensor object:\n",
    "    for i, t in enumerate(tensor_2d_list):\n",
    "        t.meta().set_projection_id(i)\n",
    "        event_tensor2d.append(t)\n",
    "    \n",
    "    # The data doesn't go to disc until you call save entry:\n",
    "    io_manager.save_entry()\n",
    "    "
   ]
  },
  {
   "cell_type": "code",
   "execution_count": null,
   "id": "f9dd063e",
   "metadata": {},
   "outputs": [],
   "source": [
    "# How many events did we save, total?\n",
    "print(io_manager.get_n_entries())"
   ]
  },
  {
   "cell_type": "markdown",
   "id": "87d5e4e4",
   "metadata": {},
   "source": [
    "## Finally!\n",
    "\n",
    "Close the file:"
   ]
  },
  {
   "cell_type": "code",
   "execution_count": null,
   "id": "9d435273",
   "metadata": {},
   "outputs": [],
   "source": [
    "io_manager.finalize()"
   ]
  },
  {
   "cell_type": "code",
   "execution_count": null,
   "id": "519eac52",
   "metadata": {},
   "outputs": [],
   "source": []
  }
 ],
 "metadata": {
  "kernelspec": {
   "display_name": "Python 3 (ipykernel)",
   "language": "python",
   "name": "python3"
  },
  "language_info": {
   "codemirror_mode": {
    "name": "ipython",
    "version": 3
   },
   "file_extension": ".py",
   "mimetype": "text/x-python",
   "name": "python",
   "nbconvert_exporter": "python",
   "pygments_lexer": "ipython3",
   "version": "3.11.5"
  }
 },
 "nbformat": 4,
 "nbformat_minor": 5
}
