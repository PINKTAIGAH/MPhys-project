{
 "cells": [
  {
   "cell_type": "code",
   "execution_count": 1,
   "metadata": {},
   "outputs": [],
   "source": [
    "import numpy as np\n",
    "import larcv \n",
    "import h5py\n",
    "import matplotlib.pyplot as plt"
   ]
  },
  {
   "cell_type": "code",
   "execution_count": 2,
   "metadata": {},
   "outputs": [],
   "source": [
    "# Create the config builder and turn verbosity down low:\n",
    "from larcv.config_builder import ConfigBuilder\n",
    "cb = ConfigBuilder()\n",
    "cb.set_parameter([\"/home/giorgio/merged_sample_0.h5\"], \"InputFiles\") # Pass input files as a list because you can combine them here\n",
    "cb.set_parameter(5, \"ProcessDriver\", \"IOManager\", \"Verbosity\")\n",
    "cb.set_parameter(5, \"ProcessDriver\", \"Verbosity\")\n",
    "cb.set_parameter(5, \"Verbosity\")"
   ]
  },
  {
   "cell_type": "code",
   "execution_count": 3,
   "metadata": {},
   "outputs": [
    {
     "name": "stdout",
     "output_type": "stream",
     "text": [
      "{\n",
      "  \"InputFiles\": [\n",
      "    \"/home/giorgio/merged_sample_0.h5\"\n",
      "  ],\n",
      "  \"ProcessDriver\": {\n",
      "    \"EnableFilter\": false,\n",
      "    \"IOManager\": {\n",
      "      \"IOMode\": 0,\n",
      "      \"Input\": {\n",
      "        \"InputFiles\": [],\n",
      "        \"ReadOnlyName\": [],\n",
      "        \"ReadOnlyType\": [],\n",
      "        \"UseH5CoreDriver\": false\n",
      "      },\n",
      "      \"Output\": {\n",
      "        \"Compression\": 1,\n",
      "        \"OutFileName\": \"\",\n",
      "        \"StoreOnlyName\": [],\n",
      "        \"StoreOnlyType\": []\n",
      "      },\n",
      "      \"Verbosity\": 5\n",
      "    },\n",
      "    \"NumEntries\": 0,\n",
      "    \"ProcessList\": {\n",
      "      \"demodata\": {\n",
      "        \"Augment\": false,\n",
      "        \"Channels\": [\n",
      "          0\n",
      "        ],\n",
      "        \"IncludeValues\": true,\n",
      "        \"MaxVoxels\": 2000,\n",
      "        \"Producer\": \"dunevoxels\",\n",
      "        \"UnfilledVoxelValue\": -999.0\n",
      "      },\n",
      "      \"demolabel\": {\n",
      "        \"MaxParticles\": 30,\n",
      "        \"Producer\": \"all\"\n",
      "      }\n",
      "    },\n",
      "    \"ProcessName\": [\n",
      "      \"demodata\",\n",
      "      \"demolabel\"\n",
      "    ],\n",
      "    \"ProcessType\": [\n",
      "      \"BatchFillerSparseTensor2D\",\n",
      "      \"BatchFillerParticle\"\n",
      "    ],\n",
      "    \"RandomAccess\": false,\n",
      "    \"RandomSeed\": 0,\n",
      "    \"StartEntry\": 0,\n",
      "    \"Verbosity\": 5\n",
      "  },\n",
      "  \"ProcessName\": 0,\n",
      "  \"Verbosity\": 5\n",
      "}\n"
     ]
    }
   ],
   "source": [
    "name = \"demo\"\n",
    "\n",
    "cb.add_batch_filler(\n",
    "    datatype  = \"sparse2d\",\n",
    "    producer  = \"dunevoxels\",\n",
    "    name      = name+\"data\", \n",
    "    MaxVoxels = 2000, \n",
    "    Augment   = False, \n",
    "    Channels  = [0,] \n",
    ")\n",
    "\n",
    "cb.add_batch_filler(\n",
    "    datatype  = \"particle\",\n",
    "    producer  = \"all\",\n",
    "    name      = name+\"label\",\n",
    ")\n",
    "\n",
    "\n",
    "# Build up the data_keys:\n",
    "data_keys = {\n",
    "    'image': name + 'data',\n",
    "    'label': name + 'label'\n",
    "    }\n",
    "\n",
    "import json\n",
    "print(json.dumps(cb.get_config(), indent=2))"
   ]
  },
  {
   "cell_type": "code",
   "execution_count": 4,
   "metadata": {},
   "outputs": [],
   "source": [
    "from larcv.queueloader import queue_interface\n",
    "# from larcv.distributed_queue_interface import queue_interface # This is the multi-node, parallel version!\n",
    "\n",
    "queue_interface = queue_interface(random_access_mode=\"random_blocks\", seed=1234)\n",
    "queue_interface.no_warnings()\n",
    "\n",
    "# This gets the queue interface started:\n",
    "batch_size=1\n",
    "\n",
    "\n",
    "# Prepare data managers: (You can have more than one!  Train / test / anything)\n",
    "io_config = {\n",
    "    'filler_name' : name,\n",
    "    'filler_cfg'  : cb.get_config(),\n",
    "    'verbosity'   : 5,\n",
    "    'make_copy'   : False # This is if you want to make a copy of data in python\n",
    "}\n",
    "\n",
    "\n",
    "queue_interface.prepare_manager(name, io_config, batch_size, data_keys, color=None)"
   ]
  },
  {
   "cell_type": "code",
   "execution_count": 5,
   "metadata": {},
   "outputs": [],
   "source": [
    "data_dict = queue_interface.fetch_minibatch_data(name, pop=True,fetch_meta_data=True)"
   ]
  },
  {
   "cell_type": "code",
   "execution_count": 6,
   "metadata": {},
   "outputs": [
    {
     "name": "stdout",
     "output_type": "stream",
     "text": [
      "dict_keys(['image', 'label', 'entries', 'event_ids'])\n"
     ]
    }
   ],
   "source": [
    "print(data_dict.keys())"
   ]
  },
  {
   "cell_type": "code",
   "execution_count": 7,
   "metadata": {},
   "outputs": [
    {
     "name": "stdout",
     "output_type": "stream",
     "text": [
      "(1, 1, 2000, 3)\n",
      "[176.        201.          1.6312013]\n",
      "[177.        201.          1.0095792]\n",
      "[178.        201.          0.6894916]\n",
      "[178.        202.          1.5858864]\n",
      "[179.        201.          1.0525091]\n"
     ]
    }
   ],
   "source": [
    "# Print the image of this data:\n",
    "print(data_dict[\"image\"].shape)\n",
    "for i in range(5):\n",
    "    print(data_dict['image'][0,0,i])\n"
   ]
  },
  {
   "cell_type": "code",
   "execution_count": 8,
   "metadata": {},
   "outputs": [
    {
     "name": "stdout",
     "output_type": "stream",
     "text": [
      "22\n"
     ]
    }
   ],
   "source": [
    "point_cloud = data_dict[\"image\"][0, 0]\n",
    "img = np.zeros((2000,2000))\n",
    "for point in point_cloud:\n",
    "    x, y, val = point\n",
    "    # print(int(x), int(y), val)\n",
    "    if x >= 0 and y >=0:\n",
    "        img[int(x-1)][int(y-1)] = val\n",
    "        # print(x, y, val)\n",
    "print((img>2.5).sum())"
   ]
  },
  {
   "cell_type": "code",
   "execution_count": 9,
   "metadata": {},
   "outputs": [
    {
     "data": {
      "text/plain": [
       "<matplotlib.colorbar.Colorbar at 0x7fc08182b850>"
      ]
     },
     "execution_count": 9,
     "metadata": {},
     "output_type": "execute_result"
    },
    {
     "data": {
      "image/png": "[encoded data removed]",
      "text/plain": [
       "<Figure size 640x480 with 2 Axes>"
      ]
     },
     "metadata": {},
     "output_type": "display_data"
    }
   ],
   "source": [
    "plt.imshow(img[:500, :800], origin=(\"lower\"),)\n",
    "plt.colorbar()"
   ]
  },
  {
   "cell_type": "code",
   "execution_count": 10,
   "metadata": {},
   "outputs": [],
   "source": [
    "queue_interface.prepare_next(name) # prepare more data for the dataset tagged with `name`"
   ]
  },
  {
   "cell_type": "code",
   "execution_count": 11,
   "metadata": {},
   "outputs": [
    {
     "name": "stdout",
     "output_type": "stream",
     "text": [
      "[[16  0  0  0  0  0  0  0  0  0  0  0  0  0  0  0  0  0  0  0  0  0  0  0\n",
      "   0  0  0  0  0  0]]\n"
     ]
    }
   ],
   "source": [
    "re_data_dict = queue_interface.fetch_minibatch_data(name, pop=False,fetch_meta_data=True)\n",
    "print(re_data_dict[\"label\"][\"_pdg\"])"
   ]
  },
  {
   "cell_type": "code",
   "execution_count": 12,
   "metadata": {},
   "outputs": [
    {
     "name": "stdout",
     "output_type": "stream",
     "text": [
      "[[26  0  0  0  0  0  0  0  0  0  0  0  0  0  0  0  0  0  0  0  0  0  0  0\n",
      "   0  0  0  0  0  0]]\n"
     ]
    }
   ],
   "source": [
    "# Calling with pop = True will discard this data after you use it - so you get it one more time,\n",
    "# but the next time is different.  In general, you usually want pop = True.\n",
    "re_data_dict = queue_interface.fetch_minibatch_data(name, pop=True,fetch_meta_data=True)\n",
    "queue_interface.prepare_next(name)\n",
    "print(re_data_dict['label'][\"_pdg\"])"
   ]
  },
  {
   "cell_type": "code",
   "execution_count": 13,
   "metadata": {},
   "outputs": [
    {
     "name": "stdout",
     "output_type": "stream",
     "text": [
      "[[28  0  0  0  0  0  0  0  0  0  0  0  0  0  0  0  0  0  0  0  0  0  0  0\n",
      "   0  0  0  0  0  0]]\n"
     ]
    }
   ],
   "source": [
    "re_data_dict = queue_interface.fetch_minibatch_data(name, pop=True,fetch_meta_data=True)\n",
    "queue_interface.prepare_next(name)\n",
    "print(re_data_dict['label'][\"_pdg\"])"
   ]
  },
  {
   "cell_type": "code",
   "execution_count": 14,
   "metadata": {},
   "outputs": [
    {
     "name": "stdout",
     "output_type": "stream",
     "text": [
      "86\n",
      "[[0 0 0 0 0 0 0 0 0 0 0 0 0 0 0 0 0 0 0 0 0 0 0 0 0 0 0 0 0 0]]\n",
      "[[25  0  0  0  0  0  0  0  0  0  0  0  0  0  0  0  0  0  0  0  0  0  0  0\n",
      "   0  0  0  0  0  0]]\n",
      "[[0 0 0 0 0 0 0 0 0 0 0 0 0 0 0 0 0 0 0 0 0 0 0 0 0 0 0 0 0 0]]\n"
     ]
    }
   ],
   "source": [
    "re_data_dict = queue_interface.fetch_minibatch_data(name, pop=True,fetch_meta_data=True)\n",
    "queue_interface.prepare_next(name)\n",
    "\n",
    "point_cloud = re_data_dict[\"image\"][0, 0]\n",
    "img = np.zeros((2000,2000))\n",
    "for point in point_cloud:\n",
    "    x, y, val = point\n",
    "    # print(int(x), int(y), val)\n",
    "    if x >= 0 and y >=0:\n",
    "        img[int(x-1)][int(y-1)] = val\n",
    "        # print(x, y, val)\n",
    "print((img>2.5).sum())\n",
    "print(re_data_dict[\"label\"][\"_ancestor_pdg\"])\n",
    "print(re_data_dict[\"label\"][\"_pdg\"])\n",
    "print(re_data_dict[\"label\"][\"_parent_pdg\"])\n"
   ]
  },
  {
   "cell_type": "code",
   "execution_count": 21,
   "metadata": {},
   "outputs": [
    {
     "data": {
      "text/plain": [
       "<matplotlib.colorbar.Colorbar at 0x7fc080a0c850>"
      ]
     },
     "execution_count": 21,
     "metadata": {},
     "output_type": "execute_result"
    },
    {
     "data": {
      "image/png": "[encoded data removed]",
      "text/plain": [
       "<Figure size 640x480 with 2 Axes>"
      ]
     },
     "metadata": {},
     "output_type": "display_data"
    }
   ],
   "source": [
    "plt.imshow(img[1150:1450, 100:400], origin=(\"lower\"), cmap=(\"jet\"))\n",
    "plt.colorbar()"
   ]
  },
  {
   "cell_type": "code",
   "execution_count": null,
   "metadata": {},
   "outputs": [],
   "source": []
  }
 ],
 "metadata": {
  "kernelspec": {
   "display_name": "mphys",
   "language": "python",
   "name": "python3"
  },
  "language_info": {
   "codemirror_mode": {
    "name": "ipython",
    "version": 3
   },
   "file_extension": ".py",
   "mimetype": "text/x-python",
   "name": "python",
   "nbconvert_exporter": "python",
   "pygments_lexer": "ipython3",
   "version": "3.11.5"
  }
 },
 "nbformat": 4,
 "nbformat_minor": 2
}
